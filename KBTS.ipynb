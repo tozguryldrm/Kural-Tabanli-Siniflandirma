{
 "cells": [
  {
   "cell_type": "markdown",
   "id": "e340545b-490b-44a2-8817-7ec723c3b20f",
   "metadata": {
    "tags": []
   },
   "source": [
    "## Kural Tabanlı Sınıflandırma ile Potansiyel Müşteri Getirisi Hesaplama"
   ]
  },
  {
   "cell_type": "markdown",
   "id": "9521f474-3865-4765-bde5-06eba12149a6",
   "metadata": {},
   "source": [
    "Bir oyun şirketi müşterilerinin bazı özelliklerini kullanarak\n",
    "    seviye tabanlı (level based) yeni müşteri tanımları\n",
    "    (persona) oluşturmak ve bu yeni müşteri tanımlarına\n",
    "    göre segmentler oluşturup bu segmentlere göre yeni\n",
    "    gelebilecek müşterilerin şirkete ortalama ne kadar\n",
    "    kazandırabileceğini tahmin etmek istemektedir."
   ]
  },
  {
   "cell_type": "markdown",
   "id": "12657dc0-cb5a-442e-a3be-4b75fe1f7182",
   "metadata": {},
   "source": [
    "Örnek:\n",
    "    Türkiye’den IOS kullanıcısı olan 25 yaşındaki bir erkek\n",
    "    kullanıcının ortalama ne kadar kazandırabileceği\n",
    "    belirlenmek isteniyor."
   ]
  },
  {
   "cell_type": "markdown",
   "id": "a30d5280-f824-4e20-b4fa-df464a8b81b6",
   "metadata": {},
   "source": [
    "Veri Seti Hikayesi :\n",
    "\n",
    "    Persona.csv veri seti uluslararası bir oyun şirketinin sattığı ürünlerin fiyatlarını\n",
    "    ve bu ürünleri satın alan kullanıcıların bazı demografik bilgilerini\n",
    "    barındırmaktadır.\n",
    "    Veri seti her satış işleminde oluşan kayıtlardan meydana gelmektedir.\n",
    "\n",
    "    Bunun anlamı tablo tekilleştirilmemiştir.\n",
    "    Diğer bir ifade ile belirli demografik özelliklere sahip bir kullanıcı birden fazla\n",
    "    alışveriş yapmış olabilir.\n",
    "\n",
    "    PRICE – Müşterinin harcama tutarı\n",
    "    SOURCE – Müşterinin bağlandığı cihaz türü\n",
    "    SEX – Müşterinin cinsiyeti\n",
    "    COUNTRY – Müşterinin ülkesi\n",
    "    AGE – Müşterinin yaşı"
   ]
  },
  {
   "cell_type": "code",
   "execution_count": 2,
   "id": "698f6e0a-7ca4-4c3c-bc10-b874b163a689",
   "metadata": {},
   "outputs": [
    {
     "name": "stdout",
     "output_type": "stream",
     "text": [
      "##################### Shape #####################\n",
      "(5000, 5)\n",
      "##################### Types #####################\n",
      "PRICE       int64\n",
      "SOURCE     object\n",
      "SEX        object\n",
      "COUNTRY    object\n",
      "AGE         int64\n",
      "dtype: object\n",
      "##################### Head #####################\n",
      "   PRICE   SOURCE   SEX COUNTRY  AGE\n",
      "0     39  android  male     bra   17\n",
      "1     39  android  male     bra   17\n",
      "2     49  android  male     bra   17\n",
      "3     29  android  male     tur   17\n",
      "4     49  android  male     tur   17\n",
      "##################### NA #####################\n",
      "PRICE      0\n",
      "SOURCE     0\n",
      "SEX        0\n",
      "COUNTRY    0\n",
      "AGE        0\n",
      "dtype: int64\n",
      "##################### Quantiles #####################\n",
      "        count     mean        std   min   25%   50%   75%   max\n",
      "PRICE  5000.0  34.1320  12.464897   9.0  29.0  39.0  39.0  59.0\n",
      "AGE    5000.0  23.5814   8.995908  15.0  17.0  21.0  27.0  66.0\n"
     ]
    }
   ],
   "source": [
    "import pandas as pd\n",
    "\n",
    "def check_df(dataframe, head=5):\n",
    "    print(\"##################### Shape #####################\")\n",
    "    print(dataframe.shape)\n",
    "    print(\"##################### Types #####################\")\n",
    "    print(dataframe.dtypes)\n",
    "    print(\"##################### Head #####################\")\n",
    "    print(dataframe.head(head))\n",
    "    print(\"##################### NA #####################\")\n",
    "    print(dataframe.isnull().sum())\n",
    "    print(\"##################### Quantiles #####################\")\n",
    "    print(dataframe.describe().T)\n",
    "\n",
    "df = pd.read_csv(\"persona.csv\")\n",
    "check_df(df)"
   ]
  },
  {
   "cell_type": "markdown",
   "id": "4252826e-df29-4a42-8447-60df26697d76",
   "metadata": {},
   "source": [
    "   * 5000 satır ve 5 değişkenden oluşuyor.\n",
    "\n",
    "   * PRICE,AGE değişkeni tipi int64\n",
    "    SOURCE,SEX,COUNTRY kategorik değişkenler\n",
    "\n",
    "   * Hiçbir değişkende bir eksik veri bulunmuyor."
   ]
  },
  {
   "cell_type": "code",
   "execution_count": 5,
   "id": "2da5102d-9971-480c-a61b-8abb09f699e6",
   "metadata": {},
   "outputs": [
    {
     "data": {
      "text/plain": [
       "android    2974\n",
       "ios        2026\n",
       "Name: SOURCE, dtype: int64"
      ]
     },
     "execution_count": 5,
     "metadata": {},
     "output_type": "execute_result"
    }
   ],
   "source": [
    "df[\"SOURCE\"].nunique()\n",
    "df[\"SOURCE\"].value_counts()"
   ]
  },
  {
   "cell_type": "markdown",
   "id": "f15946b8-5704-4071-89c2-003b3f7c3494",
   "metadata": {},
   "source": [
    " * 2 farklı unque değeri vardır.\n",
    "    "
   ]
  },
  {
   "cell_type": "code",
   "execution_count": 6,
   "id": "b5bb9704-388e-4deb-a56e-25e51b9ff1cc",
   "metadata": {},
   "outputs": [
    {
     "data": {
      "text/plain": [
       "29    1305\n",
       "39    1260\n",
       "49    1031\n",
       "19     992\n",
       "59     212\n",
       "9      200\n",
       "Name: PRICE, dtype: int64"
      ]
     },
     "execution_count": 6,
     "metadata": {},
     "output_type": "execute_result"
    }
   ],
   "source": [
    "df[\"PRICE\"].value_counts()"
   ]
  },
  {
   "cell_type": "markdown",
   "id": "de5c010f-437f-42f9-b358-70cec1e91a6f",
   "metadata": {},
   "source": [
    " * 6 farklı unque değeri vardır"
   ]
  },
  {
   "cell_type": "markdown",
   "id": "00815102-8cbe-4bd9-82e6-d9a4e979f897",
   "metadata": {},
   "source": [
    "### Ülkelere göre satışlardan toplam ne kadar kazanılmış ve kaç satış yapılıştır ?"
   ]
  },
  {
   "cell_type": "code",
   "execution_count": 8,
   "id": "260a6b69-61d3-4475-8d9f-4ae2c23168cd",
   "metadata": {},
   "outputs": [
    {
     "data": {
      "text/html": [
       "<div>\n",
       "<style scoped>\n",
       "    .dataframe tbody tr th:only-of-type {\n",
       "        vertical-align: middle;\n",
       "    }\n",
       "\n",
       "    .dataframe tbody tr th {\n",
       "        vertical-align: top;\n",
       "    }\n",
       "\n",
       "    .dataframe thead tr th {\n",
       "        text-align: left;\n",
       "    }\n",
       "\n",
       "    .dataframe thead tr:last-of-type th {\n",
       "        text-align: right;\n",
       "    }\n",
       "</style>\n",
       "<table border=\"1\" class=\"dataframe\">\n",
       "  <thead>\n",
       "    <tr>\n",
       "      <th></th>\n",
       "      <th colspan=\"2\" halign=\"left\">PRICE</th>\n",
       "    </tr>\n",
       "    <tr>\n",
       "      <th></th>\n",
       "      <th>sum</th>\n",
       "      <th>count</th>\n",
       "    </tr>\n",
       "    <tr>\n",
       "      <th>COUNTRY</th>\n",
       "      <th></th>\n",
       "      <th></th>\n",
       "    </tr>\n",
       "  </thead>\n",
       "  <tbody>\n",
       "    <tr>\n",
       "      <th>bra</th>\n",
       "      <td>51354</td>\n",
       "      <td>1496</td>\n",
       "    </tr>\n",
       "    <tr>\n",
       "      <th>can</th>\n",
       "      <td>7730</td>\n",
       "      <td>230</td>\n",
       "    </tr>\n",
       "    <tr>\n",
       "      <th>deu</th>\n",
       "      <td>15485</td>\n",
       "      <td>455</td>\n",
       "    </tr>\n",
       "    <tr>\n",
       "      <th>fra</th>\n",
       "      <td>10177</td>\n",
       "      <td>303</td>\n",
       "    </tr>\n",
       "    <tr>\n",
       "      <th>tur</th>\n",
       "      <td>15689</td>\n",
       "      <td>451</td>\n",
       "    </tr>\n",
       "    <tr>\n",
       "      <th>usa</th>\n",
       "      <td>70225</td>\n",
       "      <td>2065</td>\n",
       "    </tr>\n",
       "  </tbody>\n",
       "</table>\n",
       "</div>"
      ],
      "text/plain": [
       "         PRICE      \n",
       "           sum count\n",
       "COUNTRY             \n",
       "bra      51354  1496\n",
       "can       7730   230\n",
       "deu      15485   455\n",
       "fra      10177   303\n",
       "tur      15689   451\n",
       "usa      70225  2065"
      ]
     },
     "execution_count": 8,
     "metadata": {},
     "output_type": "execute_result"
    }
   ],
   "source": [
    "df[[\"COUNTRY\",\"PRICE\"]].groupby(\"COUNTRY\").agg({\"count\",\"sum\"})"
   ]
  },
  {
   "cell_type": "markdown",
   "id": "c0ecc156-a8d9-4a5c-9e5d-419b34ab3a52",
   "metadata": {},
   "source": [
    "###  source türlerinde göre satış sayıları nedir ?"
   ]
  },
  {
   "cell_type": "code",
   "execution_count": 9,
   "id": "752ea655-a6e4-4248-8d1d-1aab9bd43d7b",
   "metadata": {},
   "outputs": [
    {
     "data": {
      "text/html": [
       "<div>\n",
       "<style scoped>\n",
       "    .dataframe tbody tr th:only-of-type {\n",
       "        vertical-align: middle;\n",
       "    }\n",
       "\n",
       "    .dataframe tbody tr th {\n",
       "        vertical-align: top;\n",
       "    }\n",
       "\n",
       "    .dataframe thead tr th {\n",
       "        text-align: left;\n",
       "    }\n",
       "\n",
       "    .dataframe thead tr:last-of-type th {\n",
       "        text-align: right;\n",
       "    }\n",
       "</style>\n",
       "<table border=\"1\" class=\"dataframe\">\n",
       "  <thead>\n",
       "    <tr>\n",
       "      <th></th>\n",
       "      <th>PRICE</th>\n",
       "    </tr>\n",
       "    <tr>\n",
       "      <th></th>\n",
       "      <th>count</th>\n",
       "    </tr>\n",
       "    <tr>\n",
       "      <th>SOURCE</th>\n",
       "      <th></th>\n",
       "    </tr>\n",
       "  </thead>\n",
       "  <tbody>\n",
       "    <tr>\n",
       "      <th>android</th>\n",
       "      <td>2974</td>\n",
       "    </tr>\n",
       "    <tr>\n",
       "      <th>ios</th>\n",
       "      <td>2026</td>\n",
       "    </tr>\n",
       "  </tbody>\n",
       "</table>\n",
       "</div>"
      ],
      "text/plain": [
       "        PRICE\n",
       "        count\n",
       "SOURCE       \n",
       "android  2974\n",
       "ios      2026"
      ]
     },
     "execution_count": 9,
     "metadata": {},
     "output_type": "execute_result"
    }
   ],
   "source": [
    "df[[\"SOURCE\",\"PRICE\"]].groupby(\"SOURCE\").agg({\"count\"})"
   ]
  },
  {
   "cell_type": "markdown",
   "id": "f5dacf22-2326-478e-92be-9d5f0fea320e",
   "metadata": {},
   "source": [
    "### Ülkelere göre PRICE ortalamaları nedir ?"
   ]
  },
  {
   "cell_type": "code",
   "execution_count": 10,
   "id": "4b16b197-0e90-4460-9b0b-525109d2616d",
   "metadata": {},
   "outputs": [
    {
     "data": {
      "text/html": [
       "<div>\n",
       "<style scoped>\n",
       "    .dataframe tbody tr th:only-of-type {\n",
       "        vertical-align: middle;\n",
       "    }\n",
       "\n",
       "    .dataframe tbody tr th {\n",
       "        vertical-align: top;\n",
       "    }\n",
       "\n",
       "    .dataframe thead tr th {\n",
       "        text-align: left;\n",
       "    }\n",
       "\n",
       "    .dataframe thead tr:last-of-type th {\n",
       "        text-align: right;\n",
       "    }\n",
       "</style>\n",
       "<table border=\"1\" class=\"dataframe\">\n",
       "  <thead>\n",
       "    <tr>\n",
       "      <th></th>\n",
       "      <th>PRICE</th>\n",
       "    </tr>\n",
       "    <tr>\n",
       "      <th></th>\n",
       "      <th>mean</th>\n",
       "    </tr>\n",
       "    <tr>\n",
       "      <th>COUNTRY</th>\n",
       "      <th></th>\n",
       "    </tr>\n",
       "  </thead>\n",
       "  <tbody>\n",
       "    <tr>\n",
       "      <th>bra</th>\n",
       "      <td>34.327540</td>\n",
       "    </tr>\n",
       "    <tr>\n",
       "      <th>can</th>\n",
       "      <td>33.608696</td>\n",
       "    </tr>\n",
       "    <tr>\n",
       "      <th>deu</th>\n",
       "      <td>34.032967</td>\n",
       "    </tr>\n",
       "    <tr>\n",
       "      <th>fra</th>\n",
       "      <td>33.587459</td>\n",
       "    </tr>\n",
       "    <tr>\n",
       "      <th>tur</th>\n",
       "      <td>34.787140</td>\n",
       "    </tr>\n",
       "    <tr>\n",
       "      <th>usa</th>\n",
       "      <td>34.007264</td>\n",
       "    </tr>\n",
       "  </tbody>\n",
       "</table>\n",
       "</div>"
      ],
      "text/plain": [
       "             PRICE\n",
       "              mean\n",
       "COUNTRY           \n",
       "bra      34.327540\n",
       "can      33.608696\n",
       "deu      34.032967\n",
       "fra      33.587459\n",
       "tur      34.787140\n",
       "usa      34.007264"
      ]
     },
     "execution_count": 10,
     "metadata": {},
     "output_type": "execute_result"
    }
   ],
   "source": [
    "df[[\"COUNTRY\",\"PRICE\"]].groupby(\"COUNTRY\").agg({\"mean\"})\n"
   ]
  },
  {
   "cell_type": "markdown",
   "id": "1a5f12ab-87e7-422c-9c97-f56a97f4df98",
   "metadata": {},
   "source": [
    "### SOURCE'lara göre PRICE ortalamaları nedir ?"
   ]
  },
  {
   "cell_type": "code",
   "execution_count": 11,
   "id": "a95da753-22b8-481d-9393-4ab9fa28070c",
   "metadata": {},
   "outputs": [
    {
     "data": {
      "text/html": [
       "<div>\n",
       "<style scoped>\n",
       "    .dataframe tbody tr th:only-of-type {\n",
       "        vertical-align: middle;\n",
       "    }\n",
       "\n",
       "    .dataframe tbody tr th {\n",
       "        vertical-align: top;\n",
       "    }\n",
       "\n",
       "    .dataframe thead tr th {\n",
       "        text-align: left;\n",
       "    }\n",
       "\n",
       "    .dataframe thead tr:last-of-type th {\n",
       "        text-align: right;\n",
       "    }\n",
       "</style>\n",
       "<table border=\"1\" class=\"dataframe\">\n",
       "  <thead>\n",
       "    <tr>\n",
       "      <th></th>\n",
       "      <th>PRICE</th>\n",
       "    </tr>\n",
       "    <tr>\n",
       "      <th></th>\n",
       "      <th>mean</th>\n",
       "    </tr>\n",
       "    <tr>\n",
       "      <th>SOURCE</th>\n",
       "      <th></th>\n",
       "    </tr>\n",
       "  </thead>\n",
       "  <tbody>\n",
       "    <tr>\n",
       "      <th>android</th>\n",
       "      <td>34.174849</td>\n",
       "    </tr>\n",
       "    <tr>\n",
       "      <th>ios</th>\n",
       "      <td>34.069102</td>\n",
       "    </tr>\n",
       "  </tbody>\n",
       "</table>\n",
       "</div>"
      ],
      "text/plain": [
       "             PRICE\n",
       "              mean\n",
       "SOURCE            \n",
       "android  34.174849\n",
       "ios      34.069102"
      ]
     },
     "execution_count": 11,
     "metadata": {},
     "output_type": "execute_result"
    }
   ],
   "source": [
    "df[[\"SOURCE\",\"PRICE\"]].groupby(\"SOURCE\").agg({\"mean\"})\n"
   ]
  },
  {
   "cell_type": "markdown",
   "id": "994562b9-ce61-4cb6-aef1-6432be997484",
   "metadata": {},
   "source": [
    "### COUNTRY - SOURCE kırılımında PRICE ortalamaları nedir ?"
   ]
  },
  {
   "cell_type": "code",
   "execution_count": 12,
   "id": "38b2f668-9d79-48ba-859b-3372967c1652",
   "metadata": {},
   "outputs": [
    {
     "data": {
      "text/html": [
       "<div>\n",
       "<style scoped>\n",
       "    .dataframe tbody tr th:only-of-type {\n",
       "        vertical-align: middle;\n",
       "    }\n",
       "\n",
       "    .dataframe tbody tr th {\n",
       "        vertical-align: top;\n",
       "    }\n",
       "\n",
       "    .dataframe thead tr th {\n",
       "        text-align: left;\n",
       "    }\n",
       "\n",
       "    .dataframe thead tr:last-of-type th {\n",
       "        text-align: right;\n",
       "    }\n",
       "</style>\n",
       "<table border=\"1\" class=\"dataframe\">\n",
       "  <thead>\n",
       "    <tr>\n",
       "      <th></th>\n",
       "      <th></th>\n",
       "      <th>PRICE</th>\n",
       "    </tr>\n",
       "    <tr>\n",
       "      <th></th>\n",
       "      <th></th>\n",
       "      <th>mean</th>\n",
       "    </tr>\n",
       "    <tr>\n",
       "      <th>COUNTRY</th>\n",
       "      <th>SOURCE</th>\n",
       "      <th></th>\n",
       "    </tr>\n",
       "  </thead>\n",
       "  <tbody>\n",
       "    <tr>\n",
       "      <th rowspan=\"2\" valign=\"top\">bra</th>\n",
       "      <th>android</th>\n",
       "      <td>34.387029</td>\n",
       "    </tr>\n",
       "    <tr>\n",
       "      <th>ios</th>\n",
       "      <td>34.222222</td>\n",
       "    </tr>\n",
       "    <tr>\n",
       "      <th rowspan=\"2\" valign=\"top\">can</th>\n",
       "      <th>android</th>\n",
       "      <td>33.330709</td>\n",
       "    </tr>\n",
       "    <tr>\n",
       "      <th>ios</th>\n",
       "      <td>33.951456</td>\n",
       "    </tr>\n",
       "    <tr>\n",
       "      <th rowspan=\"2\" valign=\"top\">deu</th>\n",
       "      <th>android</th>\n",
       "      <td>33.869888</td>\n",
       "    </tr>\n",
       "    <tr>\n",
       "      <th>ios</th>\n",
       "      <td>34.268817</td>\n",
       "    </tr>\n",
       "    <tr>\n",
       "      <th rowspan=\"2\" valign=\"top\">fra</th>\n",
       "      <th>android</th>\n",
       "      <td>34.312500</td>\n",
       "    </tr>\n",
       "    <tr>\n",
       "      <th>ios</th>\n",
       "      <td>32.776224</td>\n",
       "    </tr>\n",
       "    <tr>\n",
       "      <th rowspan=\"2\" valign=\"top\">tur</th>\n",
       "      <th>android</th>\n",
       "      <td>36.229437</td>\n",
       "    </tr>\n",
       "    <tr>\n",
       "      <th>ios</th>\n",
       "      <td>33.272727</td>\n",
       "    </tr>\n",
       "    <tr>\n",
       "      <th rowspan=\"2\" valign=\"top\">usa</th>\n",
       "      <th>android</th>\n",
       "      <td>33.760357</td>\n",
       "    </tr>\n",
       "    <tr>\n",
       "      <th>ios</th>\n",
       "      <td>34.371703</td>\n",
       "    </tr>\n",
       "  </tbody>\n",
       "</table>\n",
       "</div>"
      ],
      "text/plain": [
       "                     PRICE\n",
       "                      mean\n",
       "COUNTRY SOURCE            \n",
       "bra     android  34.387029\n",
       "        ios      34.222222\n",
       "can     android  33.330709\n",
       "        ios      33.951456\n",
       "deu     android  33.869888\n",
       "        ios      34.268817\n",
       "fra     android  34.312500\n",
       "        ios      32.776224\n",
       "tur     android  36.229437\n",
       "        ios      33.272727\n",
       "usa     android  33.760357\n",
       "        ios      34.371703"
      ]
     },
     "execution_count": 12,
     "metadata": {},
     "output_type": "execute_result"
    }
   ],
   "source": [
    "df[[\"SOURCE\",\"COUNTRY\",\"PRICE\"]].groupby([\"COUNTRY\",\"SOURCE\"]).agg({\"mean\"})\n"
   ]
  },
  {
   "cell_type": "code",
   "execution_count": 15,
   "id": "8db771cd-11b2-46b2-aa7e-8c04a1ea71b7",
   "metadata": {},
   "outputs": [
    {
     "data": {
      "text/html": [
       "<div>\n",
       "<style scoped>\n",
       "    .dataframe tbody tr th:only-of-type {\n",
       "        vertical-align: middle;\n",
       "    }\n",
       "\n",
       "    .dataframe tbody tr th {\n",
       "        vertical-align: top;\n",
       "    }\n",
       "\n",
       "    .dataframe thead tr th {\n",
       "        text-align: left;\n",
       "    }\n",
       "\n",
       "    .dataframe thead tr:last-of-type th {\n",
       "        text-align: right;\n",
       "    }\n",
       "</style>\n",
       "<table border=\"1\" class=\"dataframe\">\n",
       "  <thead>\n",
       "    <tr>\n",
       "      <th></th>\n",
       "      <th></th>\n",
       "      <th></th>\n",
       "      <th></th>\n",
       "      <th>PRICE</th>\n",
       "    </tr>\n",
       "    <tr>\n",
       "      <th></th>\n",
       "      <th></th>\n",
       "      <th></th>\n",
       "      <th></th>\n",
       "      <th>mean</th>\n",
       "    </tr>\n",
       "    <tr>\n",
       "      <th>COUNTRY</th>\n",
       "      <th>SOURCE</th>\n",
       "      <th>SEX</th>\n",
       "      <th>AGE</th>\n",
       "      <th></th>\n",
       "    </tr>\n",
       "  </thead>\n",
       "  <tbody>\n",
       "    <tr>\n",
       "      <th rowspan=\"5\" valign=\"top\">bra</th>\n",
       "      <th rowspan=\"5\" valign=\"top\">android</th>\n",
       "      <th rowspan=\"5\" valign=\"top\">female</th>\n",
       "      <th>15</th>\n",
       "      <td>38.714286</td>\n",
       "    </tr>\n",
       "    <tr>\n",
       "      <th>16</th>\n",
       "      <td>35.944444</td>\n",
       "    </tr>\n",
       "    <tr>\n",
       "      <th>17</th>\n",
       "      <td>35.666667</td>\n",
       "    </tr>\n",
       "    <tr>\n",
       "      <th>18</th>\n",
       "      <td>32.255814</td>\n",
       "    </tr>\n",
       "    <tr>\n",
       "      <th>19</th>\n",
       "      <td>35.206897</td>\n",
       "    </tr>\n",
       "    <tr>\n",
       "      <th>...</th>\n",
       "      <th>...</th>\n",
       "      <th>...</th>\n",
       "      <th>...</th>\n",
       "      <td>...</td>\n",
       "    </tr>\n",
       "    <tr>\n",
       "      <th rowspan=\"5\" valign=\"top\">usa</th>\n",
       "      <th rowspan=\"5\" valign=\"top\">ios</th>\n",
       "      <th rowspan=\"5\" valign=\"top\">male</th>\n",
       "      <th>42</th>\n",
       "      <td>30.250000</td>\n",
       "    </tr>\n",
       "    <tr>\n",
       "      <th>50</th>\n",
       "      <td>39.000000</td>\n",
       "    </tr>\n",
       "    <tr>\n",
       "      <th>53</th>\n",
       "      <td>34.000000</td>\n",
       "    </tr>\n",
       "    <tr>\n",
       "      <th>55</th>\n",
       "      <td>29.000000</td>\n",
       "    </tr>\n",
       "    <tr>\n",
       "      <th>59</th>\n",
       "      <td>46.500000</td>\n",
       "    </tr>\n",
       "  </tbody>\n",
       "</table>\n",
       "<p>348 rows × 1 columns</p>\n",
       "</div>"
      ],
      "text/plain": [
       "                                PRICE\n",
       "                                 mean\n",
       "COUNTRY SOURCE  SEX    AGE           \n",
       "bra     android female 15   38.714286\n",
       "                       16   35.944444\n",
       "                       17   35.666667\n",
       "                       18   32.255814\n",
       "                       19   35.206897\n",
       "...                               ...\n",
       "usa     ios     male   42   30.250000\n",
       "                       50   39.000000\n",
       "                       53   34.000000\n",
       "                       55   29.000000\n",
       "                       59   46.500000\n",
       "\n",
       "[348 rows x 1 columns]"
      ]
     },
     "execution_count": 15,
     "metadata": {},
     "output_type": "execute_result"
    }
   ],
   "source": [
    "df.groupby([\"COUNTRY\",\"SOURCE\",\"SEX\",\"AGE\"]).agg({\"mean\"})"
   ]
  },
  {
   "cell_type": "markdown",
   "id": "4bdbf4c5-86e4-4304-8379-95cede2aaf39",
   "metadata": {},
   "source": [
    "### Bu kısımda verileri kural tabanlı sınıflandıracağız ve sonrasında potasiyel müşteri getirisi hesaplıyacağız"
   ]
  },
  {
   "cell_type": "code",
   "execution_count": 16,
   "id": "50ce4728-d02f-4d66-9673-c1012a4b6acf",
   "metadata": {},
   "outputs": [],
   "source": [
    "agg_df = pd.DataFrame(df.groupby([\"COUNTRY\",\"SOURCE\",\"SEX\",\"AGE\"]).agg({\"mean\"})).reset_index()\n",
    "agg_df.columns = [\"COUNTRY\",\"SOURCE\",\"SEX\",\"AGE\",\"PRICE\"]\n",
    "agg_df.sort_values(\"PRICE\", ascending=False,inplace= True)"
   ]
  },
  {
   "cell_type": "code",
   "execution_count": 17,
   "id": "d78ecad3-403c-45c9-bebc-4dac71262b86",
   "metadata": {},
   "outputs": [
    {
     "data": {
      "text/plain": [
       "66"
      ]
     },
     "execution_count": 17,
     "metadata": {},
     "output_type": "execute_result"
    }
   ],
   "source": [
    "agg_df[\"AGE\"].max()"
   ]
  },
  {
   "cell_type": "code",
   "execution_count": 18,
   "id": "18578913-fc02-4075-b579-cf733cee3c55",
   "metadata": {},
   "outputs": [
    {
     "data": {
      "text/plain": [
       "15"
      ]
     },
     "execution_count": 18,
     "metadata": {},
     "output_type": "execute_result"
    }
   ],
   "source": [
    "agg_df[\"AGE\"].min()"
   ]
  },
  {
   "cell_type": "code",
   "execution_count": 19,
   "id": "1b9ea873-6ce1-4be7-9ea6-b9369a14bd02",
   "metadata": {},
   "outputs": [],
   "source": [
    "#0_18 , 19_23 , 24_30 , 31_40 , 41+\n",
    "agg_df[\"AGE_CAT\"] = pd.cut(agg_df[\"AGE\"],[0,18,23,30,40,66], labels=[\"1_18\",\"19_23\",\"24_30\",\"31_40\",\"41+\"], ordered=False)"
   ]
  },
  {
   "cell_type": "code",
   "execution_count": 23,
   "id": "029eeda1-3af8-4a12-98fe-9751e0ab449f",
   "metadata": {},
   "outputs": [
    {
     "data": {
      "text/html": [
       "<div>\n",
       "<style scoped>\n",
       "    .dataframe tbody tr th:only-of-type {\n",
       "        vertical-align: middle;\n",
       "    }\n",
       "\n",
       "    .dataframe tbody tr th {\n",
       "        vertical-align: top;\n",
       "    }\n",
       "\n",
       "    .dataframe thead th {\n",
       "        text-align: right;\n",
       "    }\n",
       "</style>\n",
       "<table border=\"1\" class=\"dataframe\">\n",
       "  <thead>\n",
       "    <tr style=\"text-align: right;\">\n",
       "      <th></th>\n",
       "      <th>COUNTRY</th>\n",
       "      <th>SOURCE</th>\n",
       "      <th>SEX</th>\n",
       "      <th>AGE</th>\n",
       "      <th>PRICE</th>\n",
       "      <th>AGE_CAT</th>\n",
       "    </tr>\n",
       "  </thead>\n",
       "  <tbody>\n",
       "    <tr>\n",
       "      <th>47</th>\n",
       "      <td>bra</td>\n",
       "      <td>android</td>\n",
       "      <td>male</td>\n",
       "      <td>46</td>\n",
       "      <td>59.0</td>\n",
       "      <td>41+</td>\n",
       "    </tr>\n",
       "    <tr>\n",
       "      <th>290</th>\n",
       "      <td>usa</td>\n",
       "      <td>android</td>\n",
       "      <td>male</td>\n",
       "      <td>36</td>\n",
       "      <td>59.0</td>\n",
       "      <td>31_40</td>\n",
       "    </tr>\n",
       "    <tr>\n",
       "      <th>167</th>\n",
       "      <td>fra</td>\n",
       "      <td>android</td>\n",
       "      <td>female</td>\n",
       "      <td>24</td>\n",
       "      <td>59.0</td>\n",
       "      <td>24_30</td>\n",
       "    </tr>\n",
       "    <tr>\n",
       "      <th>339</th>\n",
       "      <td>usa</td>\n",
       "      <td>ios</td>\n",
       "      <td>male</td>\n",
       "      <td>32</td>\n",
       "      <td>54.0</td>\n",
       "      <td>31_40</td>\n",
       "    </tr>\n",
       "    <tr>\n",
       "      <th>125</th>\n",
       "      <td>deu</td>\n",
       "      <td>android</td>\n",
       "      <td>female</td>\n",
       "      <td>36</td>\n",
       "      <td>49.0</td>\n",
       "      <td>31_40</td>\n",
       "    </tr>\n",
       "    <tr>\n",
       "      <th>...</th>\n",
       "      <td>...</td>\n",
       "      <td>...</td>\n",
       "      <td>...</td>\n",
       "      <td>...</td>\n",
       "      <td>...</td>\n",
       "      <td>...</td>\n",
       "    </tr>\n",
       "    <tr>\n",
       "      <th>319</th>\n",
       "      <td>usa</td>\n",
       "      <td>ios</td>\n",
       "      <td>female</td>\n",
       "      <td>38</td>\n",
       "      <td>19.0</td>\n",
       "      <td>31_40</td>\n",
       "    </tr>\n",
       "    <tr>\n",
       "      <th>315</th>\n",
       "      <td>usa</td>\n",
       "      <td>ios</td>\n",
       "      <td>female</td>\n",
       "      <td>30</td>\n",
       "      <td>19.0</td>\n",
       "      <td>24_30</td>\n",
       "    </tr>\n",
       "    <tr>\n",
       "      <th>97</th>\n",
       "      <td>can</td>\n",
       "      <td>android</td>\n",
       "      <td>female</td>\n",
       "      <td>27</td>\n",
       "      <td>19.0</td>\n",
       "      <td>24_30</td>\n",
       "    </tr>\n",
       "    <tr>\n",
       "      <th>171</th>\n",
       "      <td>fra</td>\n",
       "      <td>android</td>\n",
       "      <td>male</td>\n",
       "      <td>18</td>\n",
       "      <td>19.0</td>\n",
       "      <td>1_18</td>\n",
       "    </tr>\n",
       "    <tr>\n",
       "      <th>138</th>\n",
       "      <td>deu</td>\n",
       "      <td>android</td>\n",
       "      <td>male</td>\n",
       "      <td>26</td>\n",
       "      <td>9.0</td>\n",
       "      <td>24_30</td>\n",
       "    </tr>\n",
       "  </tbody>\n",
       "</table>\n",
       "<p>348 rows × 6 columns</p>\n",
       "</div>"
      ],
      "text/plain": [
       "    COUNTRY   SOURCE     SEX  AGE  PRICE AGE_CAT\n",
       "47      bra  android    male   46   59.0     41+\n",
       "290     usa  android    male   36   59.0   31_40\n",
       "167     fra  android  female   24   59.0   24_30\n",
       "339     usa      ios    male   32   54.0   31_40\n",
       "125     deu  android  female   36   49.0   31_40\n",
       "..      ...      ...     ...  ...    ...     ...\n",
       "319     usa      ios  female   38   19.0   31_40\n",
       "315     usa      ios  female   30   19.0   24_30\n",
       "97      can  android  female   27   19.0   24_30\n",
       "171     fra  android    male   18   19.0    1_18\n",
       "138     deu  android    male   26    9.0   24_30\n",
       "\n",
       "[348 rows x 6 columns]"
      ]
     },
     "execution_count": 23,
     "metadata": {},
     "output_type": "execute_result"
    }
   ],
   "source": [
    "agg_df"
   ]
  },
  {
   "cell_type": "code",
   "execution_count": null,
   "id": "8b708391-7cb9-4da2-bad8-806559284e9c",
   "metadata": {},
   "outputs": [],
   "source": [
    "agg_df = pd.DataFrame([{\"customers_level_based\":str(i[0]+\"_\"+i[1]+\"_\"+i[2]+\"_\"+i[5]).upper(),\"PRICE\": i[4]} for i in agg_df.values])"
   ]
  },
  {
   "cell_type": "code",
   "execution_count": 29,
   "id": "a15f1e53-867b-4ce3-bdb6-1d72f8371440",
   "metadata": {},
   "outputs": [
    {
     "data": {
      "text/html": [
       "<div>\n",
       "<style scoped>\n",
       "    .dataframe tbody tr th:only-of-type {\n",
       "        vertical-align: middle;\n",
       "    }\n",
       "\n",
       "    .dataframe tbody tr th {\n",
       "        vertical-align: top;\n",
       "    }\n",
       "\n",
       "    .dataframe thead th {\n",
       "        text-align: right;\n",
       "    }\n",
       "</style>\n",
       "<table border=\"1\" class=\"dataframe\">\n",
       "  <thead>\n",
       "    <tr style=\"text-align: right;\">\n",
       "      <th></th>\n",
       "      <th>customers_level_based</th>\n",
       "      <th>PRICE</th>\n",
       "    </tr>\n",
       "  </thead>\n",
       "  <tbody>\n",
       "    <tr>\n",
       "      <th>0</th>\n",
       "      <td>BRA_ANDROID_MALE_41+</td>\n",
       "      <td>59.0</td>\n",
       "    </tr>\n",
       "    <tr>\n",
       "      <th>1</th>\n",
       "      <td>USA_ANDROID_MALE_31_40</td>\n",
       "      <td>59.0</td>\n",
       "    </tr>\n",
       "    <tr>\n",
       "      <th>2</th>\n",
       "      <td>FRA_ANDROID_FEMALE_24_30</td>\n",
       "      <td>59.0</td>\n",
       "    </tr>\n",
       "    <tr>\n",
       "      <th>3</th>\n",
       "      <td>USA_IOS_MALE_31_40</td>\n",
       "      <td>54.0</td>\n",
       "    </tr>\n",
       "    <tr>\n",
       "      <th>4</th>\n",
       "      <td>DEU_ANDROID_FEMALE_31_40</td>\n",
       "      <td>49.0</td>\n",
       "    </tr>\n",
       "    <tr>\n",
       "      <th>...</th>\n",
       "      <td>...</td>\n",
       "      <td>...</td>\n",
       "    </tr>\n",
       "    <tr>\n",
       "      <th>343</th>\n",
       "      <td>USA_IOS_FEMALE_31_40</td>\n",
       "      <td>19.0</td>\n",
       "    </tr>\n",
       "    <tr>\n",
       "      <th>344</th>\n",
       "      <td>USA_IOS_FEMALE_24_30</td>\n",
       "      <td>19.0</td>\n",
       "    </tr>\n",
       "    <tr>\n",
       "      <th>345</th>\n",
       "      <td>CAN_ANDROID_FEMALE_24_30</td>\n",
       "      <td>19.0</td>\n",
       "    </tr>\n",
       "    <tr>\n",
       "      <th>346</th>\n",
       "      <td>FRA_ANDROID_MALE_1_18</td>\n",
       "      <td>19.0</td>\n",
       "    </tr>\n",
       "    <tr>\n",
       "      <th>347</th>\n",
       "      <td>DEU_ANDROID_MALE_24_30</td>\n",
       "      <td>9.0</td>\n",
       "    </tr>\n",
       "  </tbody>\n",
       "</table>\n",
       "<p>348 rows × 2 columns</p>\n",
       "</div>"
      ],
      "text/plain": [
       "        customers_level_based  PRICE\n",
       "0        BRA_ANDROID_MALE_41+   59.0\n",
       "1      USA_ANDROID_MALE_31_40   59.0\n",
       "2    FRA_ANDROID_FEMALE_24_30   59.0\n",
       "3          USA_IOS_MALE_31_40   54.0\n",
       "4    DEU_ANDROID_FEMALE_31_40   49.0\n",
       "..                        ...    ...\n",
       "343      USA_IOS_FEMALE_31_40   19.0\n",
       "344      USA_IOS_FEMALE_24_30   19.0\n",
       "345  CAN_ANDROID_FEMALE_24_30   19.0\n",
       "346     FRA_ANDROID_MALE_1_18   19.0\n",
       "347    DEU_ANDROID_MALE_24_30    9.0\n",
       "\n",
       "[348 rows x 2 columns]"
      ]
     },
     "execution_count": 29,
     "metadata": {},
     "output_type": "execute_result"
    }
   ],
   "source": [
    "agg_df"
   ]
  },
  {
   "cell_type": "code",
   "execution_count": 31,
   "id": "762139c5-58ff-4a8d-9433-37d80548292b",
   "metadata": {},
   "outputs": [],
   "source": [
    "agg_df = agg_df[:].groupby(\"customers_level_based\").agg({\"PRICE\":\"mean\"})"
   ]
  },
  {
   "cell_type": "code",
   "execution_count": 32,
   "id": "8b5715a1-83de-4ee1-a204-f70420e4670d",
   "metadata": {},
   "outputs": [],
   "source": [
    "agg_df[\"SEGMENT\"] = pd.cut(agg_df[\"PRICE\"],4, labels=[\"D\",\"C\",\"B\",\"A\"])\n",
    "agg_df = agg_df.reset_index()"
   ]
  },
  {
   "cell_type": "code",
   "execution_count": 33,
   "id": "89673ed1-a944-4c74-8131-bde4b3ffafaa",
   "metadata": {},
   "outputs": [
    {
     "data": {
      "text/html": [
       "<div>\n",
       "<style scoped>\n",
       "    .dataframe tbody tr th:only-of-type {\n",
       "        vertical-align: middle;\n",
       "    }\n",
       "\n",
       "    .dataframe tbody tr th {\n",
       "        vertical-align: top;\n",
       "    }\n",
       "\n",
       "    .dataframe thead tr th {\n",
       "        text-align: left;\n",
       "    }\n",
       "</style>\n",
       "<table border=\"1\" class=\"dataframe\">\n",
       "  <thead>\n",
       "    <tr>\n",
       "      <th></th>\n",
       "      <th>SEGMENT</th>\n",
       "      <th colspan=\"3\" halign=\"left\">PRICE</th>\n",
       "    </tr>\n",
       "    <tr>\n",
       "      <th></th>\n",
       "      <th></th>\n",
       "      <th>mean</th>\n",
       "      <th>max</th>\n",
       "      <th>sum</th>\n",
       "    </tr>\n",
       "  </thead>\n",
       "  <tbody>\n",
       "    <tr>\n",
       "      <th>0</th>\n",
       "      <td>D</td>\n",
       "      <td>22.502193</td>\n",
       "      <td>25.052632</td>\n",
       "      <td>112.510965</td>\n",
       "    </tr>\n",
       "    <tr>\n",
       "      <th>1</th>\n",
       "      <td>C</td>\n",
       "      <td>30.588433</td>\n",
       "      <td>32.014706</td>\n",
       "      <td>672.945535</td>\n",
       "    </tr>\n",
       "    <tr>\n",
       "      <th>2</th>\n",
       "      <td>B</td>\n",
       "      <td>34.732598</td>\n",
       "      <td>37.685764</td>\n",
       "      <td>2396.549258</td>\n",
       "    </tr>\n",
       "    <tr>\n",
       "      <th>3</th>\n",
       "      <td>A</td>\n",
       "      <td>40.784540</td>\n",
       "      <td>45.428571</td>\n",
       "      <td>530.199023</td>\n",
       "    </tr>\n",
       "  </tbody>\n",
       "</table>\n",
       "</div>"
      ],
      "text/plain": [
       "  SEGMENT      PRICE                        \n",
       "                mean        max          sum\n",
       "0       D  22.502193  25.052632   112.510965\n",
       "1       C  30.588433  32.014706   672.945535\n",
       "2       B  34.732598  37.685764  2396.549258\n",
       "3       A  40.784540  45.428571   530.199023"
      ]
     },
     "execution_count": 33,
     "metadata": {},
     "output_type": "execute_result"
    }
   ],
   "source": [
    "agg_df[:].groupby(\"SEGMENT\").agg({\"PRICE\":[\"mean\",\"max\",\"sum\"]}).reset_index()"
   ]
  },
  {
   "cell_type": "code",
   "execution_count": 34,
   "id": "8f5bc8ec-35a5-4830-8238-e30077f3324d",
   "metadata": {},
   "outputs": [
    {
     "data": {
      "text/html": [
       "<div>\n",
       "<style scoped>\n",
       "    .dataframe tbody tr th:only-of-type {\n",
       "        vertical-align: middle;\n",
       "    }\n",
       "\n",
       "    .dataframe tbody tr th {\n",
       "        vertical-align: top;\n",
       "    }\n",
       "\n",
       "    .dataframe thead th {\n",
       "        text-align: right;\n",
       "    }\n",
       "</style>\n",
       "<table border=\"1\" class=\"dataframe\">\n",
       "  <thead>\n",
       "    <tr style=\"text-align: right;\">\n",
       "      <th></th>\n",
       "      <th>PRICE</th>\n",
       "    </tr>\n",
       "  </thead>\n",
       "  <tbody>\n",
       "    <tr>\n",
       "      <th>mean</th>\n",
       "      <td>30.588433</td>\n",
       "    </tr>\n",
       "    <tr>\n",
       "      <th>max</th>\n",
       "      <td>32.014706</td>\n",
       "    </tr>\n",
       "    <tr>\n",
       "      <th>min</th>\n",
       "      <td>27.333333</td>\n",
       "    </tr>\n",
       "    <tr>\n",
       "      <th>std</th>\n",
       "      <td>1.377497</td>\n",
       "    </tr>\n",
       "    <tr>\n",
       "      <th>sum</th>\n",
       "      <td>672.945535</td>\n",
       "    </tr>\n",
       "  </tbody>\n",
       "</table>\n",
       "</div>"
      ],
      "text/plain": [
       "           PRICE\n",
       "mean   30.588433\n",
       "max    32.014706\n",
       "min    27.333333\n",
       "std     1.377497\n",
       "sum   672.945535"
      ]
     },
     "execution_count": 34,
     "metadata": {},
     "output_type": "execute_result"
    }
   ],
   "source": [
    "agg_df[agg_df[\"SEGMENT\"] == \"C\"].agg({\"PRICE\":[\"mean\",\"max\",\"min\",\"std\",\"sum\"]})"
   ]
  },
  {
   "cell_type": "code",
   "execution_count": 35,
   "id": "ecdb4d4a-b840-471c-aafc-551b1b7af68f",
   "metadata": {},
   "outputs": [],
   "source": [
    "def yeni_musteri(dataframe,new_user):\n",
    "    print(dataframe[dataframe[\"customers_level_based\"] == new_user])"
   ]
  },
  {
   "cell_type": "markdown",
   "id": "18eda818-c244-4f3d-bca0-b59df635ebcd",
   "metadata": {},
   "source": [
    "### 33 yaşında ANDROID kullanan bir Türk kadını hangi segmente aittir ve ortalama ne kadar gelir kazanması beklenir?"
   ]
  },
  {
   "cell_type": "code",
   "execution_count": 37,
   "id": "8012c349-c910-47fe-be69-428e1cbd988c",
   "metadata": {},
   "outputs": [
    {
     "name": "stdout",
     "output_type": "stream",
     "text": [
      "       customers_level_based      PRICE SEGMENT\n",
      "72  TUR_ANDROID_FEMALE_31_40  41.833333       A\n"
     ]
    }
   ],
   "source": [
    "yeni_musteri(agg_df,\"TUR_ANDROID_FEMALE_31_40\")"
   ]
  },
  {
   "cell_type": "markdown",
   "id": "d90d1138-483c-4718-9bcd-7cf2c528189a",
   "metadata": {},
   "source": [
    "A segmentine ait ve ortalama 41,8 gelir kazandırması bekleniyor."
   ]
  },
  {
   "cell_type": "markdown",
   "id": "f323fdb2-913e-4fff-9e65-b7e8cc8c214c",
   "metadata": {},
   "source": [
    "### 35 yaşında IOS kullanan bir fıransız kadını hangi segmente ve ortalama ne kadar gelir kazanması beklenir ?"
   ]
  },
  {
   "cell_type": "code",
   "execution_count": 38,
   "id": "14199514-ef7c-469d-a330-1185b4592ef4",
   "metadata": {},
   "outputs": [
    {
     "name": "stdout",
     "output_type": "stream",
     "text": [
      "   customers_level_based      PRICE SEGMENT\n",
      "63  FRA_IOS_FEMALE_31_40  32.818182       B\n"
     ]
    }
   ],
   "source": [
    "yeni_musteri(agg_df,\"FRA_IOS_FEMALE_31_40\")"
   ]
  },
  {
   "cell_type": "markdown",
   "id": "89cf22dc-0c0a-4406-aff8-d2b2d2e2db80",
   "metadata": {},
   "source": [
    "B segmentine aittir ve ortalama 32,8 gelir kazndırması bekleniyor."
   ]
  }
 ],
 "metadata": {
  "kernelspec": {
   "display_name": "Python 3 (ipykernel)",
   "language": "python",
   "name": "python3"
  },
  "language_info": {
   "codemirror_mode": {
    "name": "ipython",
    "version": 3
   },
   "file_extension": ".py",
   "mimetype": "text/x-python",
   "name": "python",
   "nbconvert_exporter": "python",
   "pygments_lexer": "ipython3",
   "version": "3.9.7"
  }
 },
 "nbformat": 4,
 "nbformat_minor": 5
}
